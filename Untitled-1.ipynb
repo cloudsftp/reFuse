{
    "cells": [
        {
            "cell_type": "code",
            "execution_count": 8,
            "source": [
                "from document_types import DateType"
            ],
            "outputs": [],
            "metadata": {}
        },
        {
            "cell_type": "code",
            "execution_count": 9,
            "source": [
                "date = DateType()\n",
                "print(date)"
            ],
            "outputs": [
                {
                    "output_type": "stream",
                    "name": "stdout",
                    "text": [
                        "<document_types.DateType object at 0x7f1dcc57cac0>\n"
                    ]
                }
            ],
            "metadata": {}
        },
        {
            "cell_type": "code",
            "execution_count": 10,
            "source": [
                "from document_types import DocumentWrapper, Document"
            ],
            "outputs": [],
            "metadata": {}
        },
        {
            "cell_type": "code",
            "execution_count": 11,
            "source": [
                "doc = DocumentWrapper(Document('Test'))"
            ],
            "outputs": [],
            "metadata": {}
        },
        {
            "cell_type": "code",
            "execution_count": 12,
            "source": [
                "print(doc)"
            ],
            "outputs": [
                {
                    "output_type": "stream",
                    "name": "stdout",
                    "text": [
                        "DocumentWrapper(document=Document(visibleName='Test', deleted=False, lastModified='1632654929184', lastOpened='1632654929184', metamodified=False, modified=True, parent='', pinned=False, synced=False, version=0), uuid=UUID('0e74750e-1ebb-11ec-9e45-f5877c3cb9c0'), parent_wrapper=None, child_wrappers=[])\n"
                    ]
                }
            ],
            "metadata": {}
        },
        {
            "cell_type": "code",
            "execution_count": 13,
            "source": [
                "print(doc.to_json())"
            ],
            "outputs": [
                {
                    "output_type": "stream",
                    "name": "stdout",
                    "text": [
                        "{\"visibleName\": \"Test\", \"deleted\": false, \"lastModified\": \"1632654929184\", \"lastOpened\": \"1632654929184\", \"metamodified\": false, \"modified\": true, \"parent\": \"\", \"pinned\": false, \"synced\": false, \"version\": 0}\n"
                    ]
                }
            ],
            "metadata": {}
        },
        {
            "cell_type": "code",
            "execution_count": null,
            "source": [],
            "outputs": [],
            "metadata": {}
        }
    ],
    "metadata": {
        "orig_nbformat": 4,
        "language_info": {
            "name": "python",
            "version": "3.8.3",
            "mimetype": "text/x-python",
            "codemirror_mode": {
                "name": "ipython",
                "version": 3
            },
            "pygments_lexer": "ipython3",
            "nbconvert_exporter": "python",
            "file_extension": ".py"
        },
        "kernelspec": {
            "name": "python3",
            "display_name": "Python 3.8.3 64-bit ('base': conda)"
        },
        "interpreter": {
            "hash": "94caeaf6086fe614ad41e765016fa08cb1a013501167a5d43c0e0a31a711cf9f"
        }
    },
    "nbformat": 4,
    "nbformat_minor": 2
}